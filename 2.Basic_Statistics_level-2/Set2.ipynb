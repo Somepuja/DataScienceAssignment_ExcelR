{
 "cells": [
  {
   "cell_type": "code",
   "execution_count": 1,
   "metadata": {},
   "outputs": [],
   "source": [
    "import numpy as np \n",
    "from scipy import stats"
   ]
  },
  {
   "attachments": {},
   "cell_type": "markdown",
   "metadata": {},
   "source": [
    "## Question1 :\n",
    "The time required for servicing transmissions is normally distributed with $\\mu$ = 45 minutes and $\\sigma$ = 8 minutes. The service manager plans to have work begin on the transmission of a customer’s car 10 minutes after the car is dropped off and the customer is told that the car will be ready within 1 hour from drop-off. What is the probability that the service manager cannot meet his commitment? "
   ]
  },
  {
   "cell_type": "code",
   "execution_count": 8,
   "metadata": {},
   "outputs": [
    {
     "name": "stdout",
     "output_type": "stream",
     "text": [
      "The probability that the service manager cannot meet his commitment : 0.27\n"
     ]
    }
   ],
   "source": [
    "import numpy as np\n",
    "from scipy.stats import norm\n",
    "mean = 45\n",
    "std = 8\n",
    "# p: probability of service manager to meet his commitment i.e. P(x<50)\n",
    "p = norm.cdf(50,45,8) \n",
    "# 1-p : probability of service manager to cannot meet his commitment i.e. P(x>50)\n",
    "print(f\"The probability that the service manager cannot meet his commitment : {np.round(1-p,2)}\")"
   ]
  },
  {
   "attachments": {},
   "cell_type": "markdown",
   "metadata": {},
   "source": [
    "## Question 2\n",
    "The current age (in years) of 400 clerical employees at an insurance claims processing center is normally distributed with mean $\\mu$ = 38 and Standard deviation  $\\sigma$=6. For each statement below, please specify True/False. If false, briefly explain why."
   ]
  },
  {
   "cell_type": "code",
   "execution_count": 10,
   "metadata": {},
   "outputs": [],
   "source": [
    "mu = 38\n",
    "std = 6"
   ]
  },
  {
   "attachments": {},
   "cell_type": "markdown",
   "metadata": {},
   "source": [
    "2a) More employees at the processing center are older than 44 than between 38 and 44."
   ]
  },
  {
   "cell_type": "code",
   "execution_count": 11,
   "metadata": {},
   "outputs": [
    {
     "name": "stdout",
     "output_type": "stream",
     "text": [
      "Probability of employee age between 38 and 44 : 0.3413447460685429\n",
      "probability of employee age more than 44 : 0.15865525393145707\n"
     ]
    }
   ],
   "source": [
    "# Probability of employee age between 38 and 44\n",
    "p1 = norm.cdf(44, loc=mu, scale=std) - norm.cdf(38, loc=mu, scale=std)\n",
    "print(f\"Probability of employee age between 38 and 44 : {p1}\")\n",
    "\n",
    "# Probability of employee age more than 44\n",
    "p2 = 1 - norm.cdf(44, loc=mu, scale=std)\n",
    "print(f\"probability of employee age more than 44 : {p2}\")\n",
    "\n",
    "# False : probability of employee age between 38 and 44 is more than the probability of employee age greater than 44."
   ]
  },
  {
   "attachments": {},
   "cell_type": "markdown",
   "metadata": {},
   "source": [
    "2b)A training program for employees under the age of 30 at the center would be expected to attract about 36 employees."
   ]
  },
  {
   "cell_type": "code",
   "execution_count": 16,
   "metadata": {},
   "outputs": [
    {
     "name": "stdout",
     "output_type": "stream",
     "text": [
      "probability of employee age less than 30 : 0.09121121972586788\n",
      "Number of attracted employees : 36.484487890347154\n"
     ]
    }
   ],
   "source": [
    "p3 = norm.cdf(30, loc=mu, scale=std)\n",
    "print(f\"probability of employee age less than 30 : {p3}\")\n",
    "num_employee = p3*400\n",
    "print(f\"Number of attracted employees : {num_employee}\")\n",
    "\n",
    "# True "
   ]
  },
  {
   "attachments": {},
   "cell_type": "markdown",
   "metadata": {},
   "source": [
    "## Question 4\n",
    "Let X ~ N(100, 202). Find two values, a and b, symmetric about the mean, such that the probability of the random variable taking a value between them is 0.99. "
   ]
  },
  {
   "cell_type": "code",
   "execution_count": 18,
   "metadata": {},
   "outputs": [],
   "source": [
    "area1 = 0.005\n",
    "area2 = 0.995\n",
    "mu = 100\n",
    "std = 20"
   ]
  },
  {
   "cell_type": "code",
   "execution_count": 20,
   "metadata": {},
   "outputs": [
    {
     "name": "stdout",
     "output_type": "stream",
     "text": [
      "a : 48.483413929021985\n",
      "b : 151.516586070978\n"
     ]
    }
   ],
   "source": [
    "a = norm.ppf(area1,mu,std)\n",
    "b = norm.ppf(area2,mu,std)\n",
    "print(f\"a : {a}\\nb : {b}\")"
   ]
  },
  {
   "attachments": {},
   "cell_type": "markdown",
   "metadata": {},
   "source": [
    "## Question 5\n",
    "Consider a company that has two different divisions. The annual profits from the two divisions are independent and have distributions Profit1 ~ N(5, 32) and Profit2 ~ N(7, 42) respectively. Both the profits are in $ Million. Answer the following questions about the total profit of the company in Rupees. Assume that $1 = Rs. 45"
   ]
  },
  {
   "attachments": {},
   "cell_type": "markdown",
   "metadata": {},
   "source": [
    "A.  Specify a Rupee range (centered on the mean) such that it contains 95% probability for the annual profit of the company."
   ]
  },
  {
   "cell_type": "code",
   "execution_count": 23,
   "metadata": {},
   "outputs": [
    {
     "name": "stdout",
     "output_type": "stream",
     "text": [
      "a : 99.00810347848773\n",
      "b : 980.9918965215121\n"
     ]
    }
   ],
   "source": [
    "area1 = 0.025\n",
    "area2 = 0.975\n",
    "mu = 12\n",
    "std = 5\n",
    "a = norm.ppf(area1,mu,std)\n",
    "b = norm.ppf(area2,mu,std)\n",
    "print(f\"a : {a*45}\\nb : {b*45}\") # $1 = 45 rupee"
   ]
  },
  {
   "attachments": {},
   "cell_type": "markdown",
   "metadata": {},
   "source": [
    "B.\tSpecify the 5th percentile of profit (in Rupees) for the company"
   ]
  },
  {
   "cell_type": "code",
   "execution_count": 27,
   "metadata": {},
   "outputs": [
    {
     "name": "stdout",
     "output_type": "stream",
     "text": [
      "5th percentile : 169.90793393591858\n"
     ]
    }
   ],
   "source": [
    "area = 0.05\n",
    "a = norm.ppf(area,mu,std)\n",
    "print(f\"5th percentile : {a*45}\") # $1 = 45 rupee"
   ]
  },
  {
   "attachments": {},
   "cell_type": "markdown",
   "metadata": {},
   "source": [
    "C.\tWhich of the two divisions has a larger probability of making a loss in a given year?"
   ]
  },
  {
   "cell_type": "code",
   "execution_count": 30,
   "metadata": {},
   "outputs": [
    {
     "name": "stdout",
     "output_type": "stream",
     "text": [
      "l1: 0.10564977366685535\n",
      "l2 : 0.040059156863817086\n",
      "First division has larger probability of making a loss in a given year.\n"
     ]
    }
   ],
   "source": [
    "x = 0 # We need p(x<0)\n",
    "mu1 = 5\n",
    "mu2 = 7\n",
    "std1 = 3\n",
    "std2 = 4\n",
    "l1 = norm.cdf(x,mu1,std2)\n",
    "l2 = norm.cdf(x,mu2,std2)\n",
    "print(f\"l1: {l1}\\nl2 : {l2}\")\n",
    "if l1 > l2:\n",
    "    print(\"First division has larger probability of making a loss in a given year.\")\n",
    "else:\n",
    "    print(\"Second division has larger probability of making a loss in a given year\")"
   ]
  },
  {
   "cell_type": "code",
   "execution_count": null,
   "metadata": {},
   "outputs": [],
   "source": []
  }
 ],
 "metadata": {
  "kernelspec": {
   "display_name": "Python 3",
   "language": "python",
   "name": "python3"
  },
  "language_info": {
   "codemirror_mode": {
    "name": "ipython",
    "version": 3
   },
   "file_extension": ".py",
   "mimetype": "text/x-python",
   "name": "python",
   "nbconvert_exporter": "python",
   "pygments_lexer": "ipython3",
   "version": "3.11.3"
  },
  "orig_nbformat": 4
 },
 "nbformat": 4,
 "nbformat_minor": 2
}
